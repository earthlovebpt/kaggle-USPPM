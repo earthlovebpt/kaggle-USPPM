{
 "cells": [
  {
   "cell_type": "code",
   "execution_count": 1,
   "id": "743e6a21",
   "metadata": {
    "execution": {
     "iopub.execute_input": "2023-08-17T00:59:35.099477Z",
     "iopub.status.busy": "2023-08-17T00:59:35.098847Z",
     "iopub.status.idle": "2023-08-17T00:59:48.021350Z",
     "shell.execute_reply": "2023-08-17T00:59:48.020391Z"
    },
    "papermill": {
     "duration": 12.930001,
     "end_time": "2023-08-17T00:59:48.024223",
     "exception": false,
     "start_time": "2023-08-17T00:59:35.094222",
     "status": "completed"
    },
    "tags": []
   },
   "outputs": [
    {
     "name": "stderr",
     "output_type": "stream",
     "text": [
      "/opt/conda/lib/python3.10/site-packages/scipy/__init__.py:146: UserWarning: A NumPy version >=1.16.5 and <1.23.0 is required for this version of SciPy (detected version 1.23.5\n",
      "  warnings.warn(f\"A NumPy version >={np_minversion} and <{np_maxversion}\"\n",
      "/opt/conda/lib/python3.10/site-packages/tensorflow_io/python/ops/__init__.py:98: UserWarning: unable to load libtensorflow_io_plugins.so: unable to open file: libtensorflow_io_plugins.so, from paths: ['/opt/conda/lib/python3.10/site-packages/tensorflow_io/python/ops/libtensorflow_io_plugins.so']\n",
      "caused by: ['/opt/conda/lib/python3.10/site-packages/tensorflow_io/python/ops/libtensorflow_io_plugins.so: undefined symbol: _ZN3tsl6StatusC1EN10tensorflow5error4CodeESt17basic_string_viewIcSt11char_traitsIcEENS_14SourceLocationE']\n",
      "  warnings.warn(f\"unable to load libtensorflow_io_plugins.so: {e}\")\n",
      "/opt/conda/lib/python3.10/site-packages/tensorflow_io/python/ops/__init__.py:104: UserWarning: file system plugins are not loaded: unable to open file: libtensorflow_io.so, from paths: ['/opt/conda/lib/python3.10/site-packages/tensorflow_io/python/ops/libtensorflow_io.so']\n",
      "caused by: ['/opt/conda/lib/python3.10/site-packages/tensorflow_io/python/ops/libtensorflow_io.so: undefined symbol: _ZTVN10tensorflow13GcsFileSystemE']\n",
      "  warnings.warn(f\"file system plugins are not loaded: {e}\")\n"
     ]
    }
   ],
   "source": [
    "import os\n",
    "import pandas as pd\n",
    "import numpy as np\n",
    "from sklearn.model_selection import KFold, StratifiedKFold\n",
    "import shutil\n",
    "\n",
    "from torch.utils.data import DataLoader, Dataset\n",
    "import datasets, transformers\n",
    "from transformers import TrainingArguments, Trainer\n",
    "from transformers import AutoModelForSequenceClassification, AutoTokenizer, DataCollatorWithPadding"
   ]
  },
  {
   "cell_type": "code",
   "execution_count": 2,
   "id": "5d4dd28e",
   "metadata": {
    "execution": {
     "iopub.execute_input": "2023-08-17T00:59:48.032286Z",
     "iopub.status.busy": "2023-08-17T00:59:48.031992Z",
     "iopub.status.idle": "2023-08-17T00:59:48.040540Z",
     "shell.execute_reply": "2023-08-17T00:59:48.039686Z"
    },
    "papermill": {
     "duration": 0.014665,
     "end_time": "2023-08-17T00:59:48.042451",
     "exception": false,
     "start_time": "2023-08-17T00:59:48.027786",
     "status": "completed"
    },
    "tags": []
   },
   "outputs": [],
   "source": [
    "import json\n",
    "\n",
    "TRAIN_PATH = \"/kaggle/input/uspppm-train\"\n",
    "\n",
    "with open(f\"{TRAIN_PATH}/config.json\") as file:\n",
    "    config = json.load(file)"
   ]
  },
  {
   "cell_type": "code",
   "execution_count": 3,
   "id": "9150d717",
   "metadata": {
    "execution": {
     "iopub.execute_input": "2023-08-17T00:59:48.050069Z",
     "iopub.status.busy": "2023-08-17T00:59:48.049542Z",
     "iopub.status.idle": "2023-08-17T00:59:48.948848Z",
     "shell.execute_reply": "2023-08-17T00:59:48.947782Z"
    },
    "papermill": {
     "duration": 0.905662,
     "end_time": "2023-08-17T00:59:48.951282",
     "exception": false,
     "start_time": "2023-08-17T00:59:48.045620",
     "status": "completed"
    },
    "tags": []
   },
   "outputs": [
    {
     "data": {
      "text/html": [
       "<div>\n",
       "<style scoped>\n",
       "    .dataframe tbody tr th:only-of-type {\n",
       "        vertical-align: middle;\n",
       "    }\n",
       "\n",
       "    .dataframe tbody tr th {\n",
       "        vertical-align: top;\n",
       "    }\n",
       "\n",
       "    .dataframe thead th {\n",
       "        text-align: right;\n",
       "    }\n",
       "</style>\n",
       "<table border=\"1\" class=\"dataframe\">\n",
       "  <thead>\n",
       "    <tr style=\"text-align: right;\">\n",
       "      <th></th>\n",
       "      <th>id</th>\n",
       "      <th>anchor</th>\n",
       "      <th>target</th>\n",
       "      <th>context</th>\n",
       "      <th>code</th>\n",
       "      <th>title</th>\n",
       "      <th>section</th>\n",
       "      <th>class</th>\n",
       "      <th>subclass</th>\n",
       "      <th>group</th>\n",
       "      <th>main_group</th>\n",
       "      <th>input</th>\n",
       "    </tr>\n",
       "  </thead>\n",
       "  <tbody>\n",
       "    <tr>\n",
       "      <th>0</th>\n",
       "      <td>4112d61851461f60</td>\n",
       "      <td>opc drum</td>\n",
       "      <td>inorganic photoconductor drum</td>\n",
       "      <td>G02</td>\n",
       "      <td>G02</td>\n",
       "      <td>OPTICS</td>\n",
       "      <td>G</td>\n",
       "      <td>2.0</td>\n",
       "      <td>NaN</td>\n",
       "      <td>NaN</td>\n",
       "      <td>NaN</td>\n",
       "      <td>opc drum[SEP]inorganic photoconductor drum[SEP...</td>\n",
       "    </tr>\n",
       "    <tr>\n",
       "      <th>1</th>\n",
       "      <td>5203a36c501f1b7c</td>\n",
       "      <td>generate in layer</td>\n",
       "      <td>generate by layer</td>\n",
       "      <td>G02</td>\n",
       "      <td>G02</td>\n",
       "      <td>OPTICS</td>\n",
       "      <td>G</td>\n",
       "      <td>2.0</td>\n",
       "      <td>NaN</td>\n",
       "      <td>NaN</td>\n",
       "      <td>NaN</td>\n",
       "      <td>generate in layer[SEP]generate by layer[SEP]OP...</td>\n",
       "    </tr>\n",
       "    <tr>\n",
       "      <th>2</th>\n",
       "      <td>7aa5908a77a7ec24</td>\n",
       "      <td>el display</td>\n",
       "      <td>illumination</td>\n",
       "      <td>G02</td>\n",
       "      <td>G02</td>\n",
       "      <td>OPTICS</td>\n",
       "      <td>G</td>\n",
       "      <td>2.0</td>\n",
       "      <td>NaN</td>\n",
       "      <td>NaN</td>\n",
       "      <td>NaN</td>\n",
       "      <td>el display[SEP]illumination[SEP]OPTICS</td>\n",
       "    </tr>\n",
       "    <tr>\n",
       "      <th>3</th>\n",
       "      <td>09e418c93a776564</td>\n",
       "      <td>adjust gas flow</td>\n",
       "      <td>altering gas flow</td>\n",
       "      <td>F23</td>\n",
       "      <td>F23</td>\n",
       "      <td>COMBUSTION APPARATUS; COMBUSTION PROCESSES</td>\n",
       "      <td>F</td>\n",
       "      <td>23.0</td>\n",
       "      <td>NaN</td>\n",
       "      <td>NaN</td>\n",
       "      <td>NaN</td>\n",
       "      <td>adjust gas flow[SEP]altering gas flow[SEP]COMB...</td>\n",
       "    </tr>\n",
       "    <tr>\n",
       "      <th>4</th>\n",
       "      <td>36baf228038e314b</td>\n",
       "      <td>lower trunnion</td>\n",
       "      <td>lower locating</td>\n",
       "      <td>B60</td>\n",
       "      <td>B60</td>\n",
       "      <td>VEHICLES IN GENERAL</td>\n",
       "      <td>B</td>\n",
       "      <td>60.0</td>\n",
       "      <td>NaN</td>\n",
       "      <td>NaN</td>\n",
       "      <td>NaN</td>\n",
       "      <td>lower trunnion[SEP]lower locating[SEP]VEHICLES...</td>\n",
       "    </tr>\n",
       "  </tbody>\n",
       "</table>\n",
       "</div>"
      ],
      "text/plain": [
       "                 id             anchor                         target context  \\\n",
       "0  4112d61851461f60           opc drum  inorganic photoconductor drum     G02   \n",
       "1  5203a36c501f1b7c  generate in layer              generate by layer     G02   \n",
       "2  7aa5908a77a7ec24         el display                   illumination     G02   \n",
       "3  09e418c93a776564    adjust gas flow              altering gas flow     F23   \n",
       "4  36baf228038e314b     lower trunnion                 lower locating     B60   \n",
       "\n",
       "  code                                       title section  class subclass  \\\n",
       "0  G02                                      OPTICS       G    2.0      NaN   \n",
       "1  G02                                      OPTICS       G    2.0      NaN   \n",
       "2  G02                                      OPTICS       G    2.0      NaN   \n",
       "3  F23  COMBUSTION APPARATUS; COMBUSTION PROCESSES       F   23.0      NaN   \n",
       "4  B60                         VEHICLES IN GENERAL       B   60.0      NaN   \n",
       "\n",
       "   group  main_group                                              input  \n",
       "0    NaN         NaN  opc drum[SEP]inorganic photoconductor drum[SEP...  \n",
       "1    NaN         NaN  generate in layer[SEP]generate by layer[SEP]OP...  \n",
       "2    NaN         NaN             el display[SEP]illumination[SEP]OPTICS  \n",
       "3    NaN         NaN  adjust gas flow[SEP]altering gas flow[SEP]COMB...  \n",
       "4    NaN         NaN  lower trunnion[SEP]lower locating[SEP]VEHICLES...  "
      ]
     },
     "execution_count": 3,
     "metadata": {},
     "output_type": "execute_result"
    }
   ],
   "source": [
    "test_df = pd.read_csv(f\"/kaggle/input/us-patent-phrase-to-phrase-matching/test.csv\")\n",
    "titles = pd.read_csv('/kaggle/input/cpc-codes/titles.csv')\n",
    "test_df = test_df.merge(titles, left_on='context', right_on='code')\n",
    "test_df['input'] = test_df[\"anchor\"] + \"[SEP]\" + test_df[\"target\"] + \"[SEP]\" + test_df['title']\n",
    "test_df.head()"
   ]
  },
  {
   "cell_type": "code",
   "execution_count": 4,
   "id": "40e6389c",
   "metadata": {
    "execution": {
     "iopub.execute_input": "2023-08-17T00:59:48.961008Z",
     "iopub.status.busy": "2023-08-17T00:59:48.959526Z",
     "iopub.status.idle": "2023-08-17T00:59:49.295624Z",
     "shell.execute_reply": "2023-08-17T00:59:49.294609Z"
    },
    "papermill": {
     "duration": 0.343089,
     "end_time": "2023-08-17T00:59:49.297965",
     "exception": false,
     "start_time": "2023-08-17T00:59:48.954876",
     "status": "completed"
    },
    "tags": []
   },
   "outputs": [],
   "source": [
    "tokenizer = AutoTokenizer.from_pretrained(f'{TRAIN_PATH}/uspppm_0')\n",
    "data_collator = DataCollatorWithPadding(tokenizer=tokenizer)"
   ]
  },
  {
   "cell_type": "code",
   "execution_count": 5,
   "id": "88155592",
   "metadata": {
    "execution": {
     "iopub.execute_input": "2023-08-17T00:59:49.307758Z",
     "iopub.status.busy": "2023-08-17T00:59:49.306307Z",
     "iopub.status.idle": "2023-08-17T00:59:49.314159Z",
     "shell.execute_reply": "2023-08-17T00:59:49.313303Z"
    },
    "papermill": {
     "duration": 0.014417,
     "end_time": "2023-08-17T00:59:49.316123",
     "exception": false,
     "start_time": "2023-08-17T00:59:49.301706",
     "status": "completed"
    },
    "tags": []
   },
   "outputs": [],
   "source": [
    "class InferDataset(Dataset):\n",
    "    def __init__(self, df):\n",
    "        self.inputs = df['input'].values.astype(str)\n",
    "        self.targets = df['target'].values.astype(str)\n",
    "\n",
    "    def __len__(self):\n",
    "        return len(self.inputs)\n",
    "\n",
    "    def __getitem__(self, item):\n",
    "        inputs = self.inputs[item]\n",
    "        targets = self.targets[item]\n",
    "        \n",
    "        return {\n",
    "        **tokenizer( \n",
    "            inputs,\n",
    "            max_length=128,\n",
    "            padding=False,\n",
    "            truncation=True\n",
    "        ),\n",
    "    }"
   ]
  },
  {
   "cell_type": "code",
   "execution_count": 6,
   "id": "ad87a095",
   "metadata": {
    "execution": {
     "iopub.execute_input": "2023-08-17T00:59:49.324547Z",
     "iopub.status.busy": "2023-08-17T00:59:49.323691Z",
     "iopub.status.idle": "2023-08-17T01:01:20.143708Z",
     "shell.execute_reply": "2023-08-17T01:01:20.142809Z"
    },
    "papermill": {
     "duration": 90.8266,
     "end_time": "2023-08-17T01:01:20.146094",
     "exception": false,
     "start_time": "2023-08-17T00:59:49.319494",
     "status": "completed"
    },
    "tags": []
   },
   "outputs": [
    {
     "name": "stderr",
     "output_type": "stream",
     "text": [
      "You're using a DebertaV2TokenizerFast tokenizer. Please note that with a fast tokenizer, using the `__call__` method is faster than using a method to encode the text followed by a call to the `pad` method to get a padded encoding.\n"
     ]
    },
    {
     "data": {
      "text/html": [],
      "text/plain": [
       "<IPython.core.display.HTML object>"
      ]
     },
     "metadata": {},
     "output_type": "display_data"
    },
    {
     "data": {
      "text/html": [],
      "text/plain": [
       "<IPython.core.display.HTML object>"
      ]
     },
     "metadata": {},
     "output_type": "display_data"
    },
    {
     "data": {
      "text/html": [],
      "text/plain": [
       "<IPython.core.display.HTML object>"
      ]
     },
     "metadata": {},
     "output_type": "display_data"
    },
    {
     "data": {
      "text/html": [],
      "text/plain": [
       "<IPython.core.display.HTML object>"
      ]
     },
     "metadata": {},
     "output_type": "display_data"
    },
    {
     "data": {
      "text/html": [],
      "text/plain": [
       "<IPython.core.display.HTML object>"
      ]
     },
     "metadata": {},
     "output_type": "display_data"
    },
    {
     "data": {
      "application/vnd.jupyter.widget-view+json": {
       "model_id": "c0c792cb86c34582a71e7a8a203ab3a8",
       "version_major": 2,
       "version_minor": 0
      },
      "text/plain": [
       "Creating CSV from Arrow format:   0%|          | 0/1 [00:00<?, ?ba/s]"
      ]
     },
     "metadata": {},
     "output_type": "display_data"
    },
    {
     "data": {
      "text/plain": [
       "1023"
      ]
     },
     "execution_count": 6,
     "metadata": {},
     "output_type": "execute_result"
    }
   ],
   "source": [
    "predictions = []\n",
    "\n",
    "for fold in range(config[\"n_folds\"]):\n",
    "    te_dataset = InferDataset(test_df)\n",
    "    model = AutoModelForSequenceClassification.from_pretrained(f'{TRAIN_PATH}/uspppm_{fold}', num_labels=1)\n",
    "    trainer = Trainer(\n",
    "            model,\n",
    "            tokenizer=tokenizer,\n",
    "            data_collator=data_collator\n",
    "        )\n",
    "\n",
    "    outputs = trainer.predict(te_dataset)\n",
    "    prediction = outputs.predictions.reshape(-1)\n",
    "    predictions.append(prediction)\n",
    "    \n",
    "predictions = np.median(predictions, axis=0)\n",
    "submission = datasets.Dataset.from_dict({\n",
    "    'id': test_df['id'],\n",
    "    'score': predictions,\n",
    "})\n",
    "\n",
    "submission.to_csv('submission.csv', index=False)"
   ]
  },
  {
   "cell_type": "code",
   "execution_count": 7,
   "id": "ab929ec8",
   "metadata": {
    "execution": {
     "iopub.execute_input": "2023-08-17T01:01:20.158143Z",
     "iopub.status.busy": "2023-08-17T01:01:20.156529Z",
     "iopub.status.idle": "2023-08-17T01:01:20.163941Z",
     "shell.execute_reply": "2023-08-17T01:01:20.162934Z"
    },
    "papermill": {
     "duration": 0.015318,
     "end_time": "2023-08-17T01:01:20.166189",
     "exception": false,
     "start_time": "2023-08-17T01:01:20.150871",
     "status": "completed"
    },
    "tags": []
   },
   "outputs": [
    {
     "data": {
      "text/plain": [
       "{'id': ['4112d61851461f60',\n",
       "  '5203a36c501f1b7c',\n",
       "  '7aa5908a77a7ec24',\n",
       "  '09e418c93a776564',\n",
       "  '36baf228038e314b'],\n",
       " 'score': [0.45441025495529175,\n",
       "  0.929172694683075,\n",
       "  0.3050341308116913,\n",
       "  0.7258869409561157,\n",
       "  0.5116218328475952]}"
      ]
     },
     "execution_count": 7,
     "metadata": {},
     "output_type": "execute_result"
    }
   ],
   "source": [
    "submission[:5]"
   ]
  },
  {
   "cell_type": "code",
   "execution_count": null,
   "id": "59d16f74",
   "metadata": {
    "papermill": {
     "duration": 0.004446,
     "end_time": "2023-08-17T01:01:20.175138",
     "exception": false,
     "start_time": "2023-08-17T01:01:20.170692",
     "status": "completed"
    },
    "tags": []
   },
   "outputs": [],
   "source": []
  },
  {
   "cell_type": "code",
   "execution_count": null,
   "id": "86bf5a5c",
   "metadata": {
    "papermill": {
     "duration": 0.004301,
     "end_time": "2023-08-17T01:01:20.183917",
     "exception": false,
     "start_time": "2023-08-17T01:01:20.179616",
     "status": "completed"
    },
    "tags": []
   },
   "outputs": [],
   "source": []
  }
 ],
 "metadata": {
  "kernelspec": {
   "display_name": "Python 3",
   "language": "python",
   "name": "python3"
  },
  "language_info": {
   "codemirror_mode": {
    "name": "ipython",
    "version": 3
   },
   "file_extension": ".py",
   "mimetype": "text/x-python",
   "name": "python",
   "nbconvert_exporter": "python",
   "pygments_lexer": "ipython3",
   "version": "3.10.12"
  },
  "papermill": {
   "default_parameters": {},
   "duration": 118.674878,
   "end_time": "2023-08-17T01:01:23.877992",
   "environment_variables": {},
   "exception": null,
   "input_path": "__notebook__.ipynb",
   "output_path": "__notebook__.ipynb",
   "parameters": {},
   "start_time": "2023-08-17T00:59:25.203114",
   "version": "2.4.0"
  },
  "widgets": {
   "application/vnd.jupyter.widget-state+json": {
    "state": {
     "0ac95f380d5545c5b95822b51335cc03": {
      "model_module": "@jupyter-widgets/controls",
      "model_module_version": "1.5.0",
      "model_name": "DescriptionStyleModel",
      "state": {
       "_model_module": "@jupyter-widgets/controls",
       "_model_module_version": "1.5.0",
       "_model_name": "DescriptionStyleModel",
       "_view_count": null,
       "_view_module": "@jupyter-widgets/base",
       "_view_module_version": "1.2.0",
       "_view_name": "StyleView",
       "description_width": ""
      }
     },
     "188d8800852442febd43cceb2cd0a36f": {
      "model_module": "@jupyter-widgets/controls",
      "model_module_version": "1.5.0",
      "model_name": "HTMLModel",
      "state": {
       "_dom_classes": [],
       "_model_module": "@jupyter-widgets/controls",
       "_model_module_version": "1.5.0",
       "_model_name": "HTMLModel",
       "_view_count": null,
       "_view_module": "@jupyter-widgets/controls",
       "_view_module_version": "1.5.0",
       "_view_name": "HTMLView",
       "description": "",
       "description_tooltip": null,
       "layout": "IPY_MODEL_e067a6711af84492ad5e4cdc90cfb452",
       "placeholder": "​",
       "style": "IPY_MODEL_296296db14d143acafdcd0eb95dc996e",
       "value": "Creating CSV from Arrow format: 100%"
      }
     },
     "296296db14d143acafdcd0eb95dc996e": {
      "model_module": "@jupyter-widgets/controls",
      "model_module_version": "1.5.0",
      "model_name": "DescriptionStyleModel",
      "state": {
       "_model_module": "@jupyter-widgets/controls",
       "_model_module_version": "1.5.0",
       "_model_name": "DescriptionStyleModel",
       "_view_count": null,
       "_view_module": "@jupyter-widgets/base",
       "_view_module_version": "1.2.0",
       "_view_name": "StyleView",
       "description_width": ""
      }
     },
     "2afb35bb4c664d6a97640a45f87004c8": {
      "model_module": "@jupyter-widgets/controls",
      "model_module_version": "1.5.0",
      "model_name": "HTMLModel",
      "state": {
       "_dom_classes": [],
       "_model_module": "@jupyter-widgets/controls",
       "_model_module_version": "1.5.0",
       "_model_name": "HTMLModel",
       "_view_count": null,
       "_view_module": "@jupyter-widgets/controls",
       "_view_module_version": "1.5.0",
       "_view_name": "HTMLView",
       "description": "",
       "description_tooltip": null,
       "layout": "IPY_MODEL_aced8d14f2f34f8aba092d849c219ad3",
       "placeholder": "​",
       "style": "IPY_MODEL_0ac95f380d5545c5b95822b51335cc03",
       "value": " 1/1 [00:00&lt;00:00, 27.14ba/s]"
      }
     },
     "2e2b95041c2a40068af2346a19dfad52": {
      "model_module": "@jupyter-widgets/base",
      "model_module_version": "1.2.0",
      "model_name": "LayoutModel",
      "state": {
       "_model_module": "@jupyter-widgets/base",
       "_model_module_version": "1.2.0",
       "_model_name": "LayoutModel",
       "_view_count": null,
       "_view_module": "@jupyter-widgets/base",
       "_view_module_version": "1.2.0",
       "_view_name": "LayoutView",
       "align_content": null,
       "align_items": null,
       "align_self": null,
       "border": null,
       "bottom": null,
       "display": null,
       "flex": null,
       "flex_flow": null,
       "grid_area": null,
       "grid_auto_columns": null,
       "grid_auto_flow": null,
       "grid_auto_rows": null,
       "grid_column": null,
       "grid_gap": null,
       "grid_row": null,
       "grid_template_areas": null,
       "grid_template_columns": null,
       "grid_template_rows": null,
       "height": null,
       "justify_content": null,
       "justify_items": null,
       "left": null,
       "margin": null,
       "max_height": null,
       "max_width": null,
       "min_height": null,
       "min_width": null,
       "object_fit": null,
       "object_position": null,
       "order": null,
       "overflow": null,
       "overflow_x": null,
       "overflow_y": null,
       "padding": null,
       "right": null,
       "top": null,
       "visibility": null,
       "width": null
      }
     },
     "432e2879fba94e06b90150c8d0e06c32": {
      "model_module": "@jupyter-widgets/controls",
      "model_module_version": "1.5.0",
      "model_name": "ProgressStyleModel",
      "state": {
       "_model_module": "@jupyter-widgets/controls",
       "_model_module_version": "1.5.0",
       "_model_name": "ProgressStyleModel",
       "_view_count": null,
       "_view_module": "@jupyter-widgets/base",
       "_view_module_version": "1.2.0",
       "_view_name": "StyleView",
       "bar_color": null,
       "description_width": ""
      }
     },
     "4c0b0a83338a4cd4b4bc2a91b81235fb": {
      "model_module": "@jupyter-widgets/base",
      "model_module_version": "1.2.0",
      "model_name": "LayoutModel",
      "state": {
       "_model_module": "@jupyter-widgets/base",
       "_model_module_version": "1.2.0",
       "_model_name": "LayoutModel",
       "_view_count": null,
       "_view_module": "@jupyter-widgets/base",
       "_view_module_version": "1.2.0",
       "_view_name": "LayoutView",
       "align_content": null,
       "align_items": null,
       "align_self": null,
       "border": null,
       "bottom": null,
       "display": null,
       "flex": null,
       "flex_flow": null,
       "grid_area": null,
       "grid_auto_columns": null,
       "grid_auto_flow": null,
       "grid_auto_rows": null,
       "grid_column": null,
       "grid_gap": null,
       "grid_row": null,
       "grid_template_areas": null,
       "grid_template_columns": null,
       "grid_template_rows": null,
       "height": null,
       "justify_content": null,
       "justify_items": null,
       "left": null,
       "margin": null,
       "max_height": null,
       "max_width": null,
       "min_height": null,
       "min_width": null,
       "object_fit": null,
       "object_position": null,
       "order": null,
       "overflow": null,
       "overflow_x": null,
       "overflow_y": null,
       "padding": null,
       "right": null,
       "top": null,
       "visibility": null,
       "width": null
      }
     },
     "aced8d14f2f34f8aba092d849c219ad3": {
      "model_module": "@jupyter-widgets/base",
      "model_module_version": "1.2.0",
      "model_name": "LayoutModel",
      "state": {
       "_model_module": "@jupyter-widgets/base",
       "_model_module_version": "1.2.0",
       "_model_name": "LayoutModel",
       "_view_count": null,
       "_view_module": "@jupyter-widgets/base",
       "_view_module_version": "1.2.0",
       "_view_name": "LayoutView",
       "align_content": null,
       "align_items": null,
       "align_self": null,
       "border": null,
       "bottom": null,
       "display": null,
       "flex": null,
       "flex_flow": null,
       "grid_area": null,
       "grid_auto_columns": null,
       "grid_auto_flow": null,
       "grid_auto_rows": null,
       "grid_column": null,
       "grid_gap": null,
       "grid_row": null,
       "grid_template_areas": null,
       "grid_template_columns": null,
       "grid_template_rows": null,
       "height": null,
       "justify_content": null,
       "justify_items": null,
       "left": null,
       "margin": null,
       "max_height": null,
       "max_width": null,
       "min_height": null,
       "min_width": null,
       "object_fit": null,
       "object_position": null,
       "order": null,
       "overflow": null,
       "overflow_x": null,
       "overflow_y": null,
       "padding": null,
       "right": null,
       "top": null,
       "visibility": null,
       "width": null
      }
     },
     "c0c792cb86c34582a71e7a8a203ab3a8": {
      "model_module": "@jupyter-widgets/controls",
      "model_module_version": "1.5.0",
      "model_name": "HBoxModel",
      "state": {
       "_dom_classes": [],
       "_model_module": "@jupyter-widgets/controls",
       "_model_module_version": "1.5.0",
       "_model_name": "HBoxModel",
       "_view_count": null,
       "_view_module": "@jupyter-widgets/controls",
       "_view_module_version": "1.5.0",
       "_view_name": "HBoxView",
       "box_style": "",
       "children": [
        "IPY_MODEL_188d8800852442febd43cceb2cd0a36f",
        "IPY_MODEL_c5985076685941fc9296304186039603",
        "IPY_MODEL_2afb35bb4c664d6a97640a45f87004c8"
       ],
       "layout": "IPY_MODEL_4c0b0a83338a4cd4b4bc2a91b81235fb"
      }
     },
     "c5985076685941fc9296304186039603": {
      "model_module": "@jupyter-widgets/controls",
      "model_module_version": "1.5.0",
      "model_name": "FloatProgressModel",
      "state": {
       "_dom_classes": [],
       "_model_module": "@jupyter-widgets/controls",
       "_model_module_version": "1.5.0",
       "_model_name": "FloatProgressModel",
       "_view_count": null,
       "_view_module": "@jupyter-widgets/controls",
       "_view_module_version": "1.5.0",
       "_view_name": "ProgressView",
       "bar_style": "success",
       "description": "",
       "description_tooltip": null,
       "layout": "IPY_MODEL_2e2b95041c2a40068af2346a19dfad52",
       "max": 1.0,
       "min": 0.0,
       "orientation": "horizontal",
       "style": "IPY_MODEL_432e2879fba94e06b90150c8d0e06c32",
       "value": 1.0
      }
     },
     "e067a6711af84492ad5e4cdc90cfb452": {
      "model_module": "@jupyter-widgets/base",
      "model_module_version": "1.2.0",
      "model_name": "LayoutModel",
      "state": {
       "_model_module": "@jupyter-widgets/base",
       "_model_module_version": "1.2.0",
       "_model_name": "LayoutModel",
       "_view_count": null,
       "_view_module": "@jupyter-widgets/base",
       "_view_module_version": "1.2.0",
       "_view_name": "LayoutView",
       "align_content": null,
       "align_items": null,
       "align_self": null,
       "border": null,
       "bottom": null,
       "display": null,
       "flex": null,
       "flex_flow": null,
       "grid_area": null,
       "grid_auto_columns": null,
       "grid_auto_flow": null,
       "grid_auto_rows": null,
       "grid_column": null,
       "grid_gap": null,
       "grid_row": null,
       "grid_template_areas": null,
       "grid_template_columns": null,
       "grid_template_rows": null,
       "height": null,
       "justify_content": null,
       "justify_items": null,
       "left": null,
       "margin": null,
       "max_height": null,
       "max_width": null,
       "min_height": null,
       "min_width": null,
       "object_fit": null,
       "object_position": null,
       "order": null,
       "overflow": null,
       "overflow_x": null,
       "overflow_y": null,
       "padding": null,
       "right": null,
       "top": null,
       "visibility": null,
       "width": null
      }
     }
    },
    "version_major": 2,
    "version_minor": 0
   }
  }
 },
 "nbformat": 4,
 "nbformat_minor": 5
}
